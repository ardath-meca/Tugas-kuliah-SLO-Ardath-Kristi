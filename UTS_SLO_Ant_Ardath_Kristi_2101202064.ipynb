{
  "nbformat": 4,
  "nbformat_minor": 0,
  "metadata": {
    "colab": {
      "name": "UTS_SLO_Ant.Ardath Kristi_2101202064.ipynb",
      "provenance": [],
      "toc_visible": true
    },
    "kernelspec": {
      "name": "python3",
      "display_name": "Python 3"
    },
    "language_info": {
      "name": "python"
    },
    "accelerator": "GPU"
  },
  "cells": [
    {
      "cell_type": "code",
      "metadata": {
        "colab": {
          "base_uri": "https://localhost:8080/"
        },
        "id": "FFxvvG1YGZHz",
        "outputId": "ca19cb2c-3b0a-40f1-96d6-5fa44b0ecbee"
      },
      "source": [
        "from google.colab import drive\n",
        "drive.mount('/content/drive')"
      ],
      "execution_count": 1,
      "outputs": [
        {
          "output_type": "stream",
          "text": [
            "Drive already mounted at /content/drive; to attempt to forcibly remount, call drive.mount(\"/content/drive\", force_remount=True).\n"
          ],
          "name": "stdout"
        }
      ]
    },
    {
      "cell_type": "code",
      "metadata": {
        "colab": {
          "base_uri": "https://localhost:8080/"
        },
        "id": "5D37RCosG6vv",
        "outputId": "8b7be018-ca43-4663-dc8c-8adf2da7e523"
      },
      "source": [
        "cd /content/drive/MyDrive/Colab Notebooks"
      ],
      "execution_count": 2,
      "outputs": [
        {
          "output_type": "stream",
          "text": [
            "/content/drive/MyDrive/Colab Notebooks\n"
          ],
          "name": "stdout"
        }
      ]
    },
    {
      "cell_type": "code",
      "metadata": {
        "id": "FW30G9sYHKSd",
        "colab": {
          "base_uri": "https://localhost:8080/"
        },
        "outputId": "75881f94-0a15-4949-b47f-718161324222"
      },
      "source": [
        "ls"
      ],
      "execution_count": 3,
      "outputs": [
        {
          "output_type": "stream",
          "text": [
            " \u001b[0m\u001b[01;34m3scene\u001b[0m/\n",
            "'Copy of Tugas_Indiv_02_SLO.ipynb'\n",
            "'Copy of Untitled0.ipynb'\n",
            " data_cancer.csv\n",
            " Tugas_Indiv_02_SLO.ipynb\n",
            "'UTS_SLO_Ant.Ardath Kristi_2101202064.ipynb'\n"
          ],
          "name": "stdout"
        }
      ]
    },
    {
      "cell_type": "code",
      "metadata": {
        "id": "UoPeYYKLHQv8"
      },
      "source": [
        "# import the necessary packages\n",
        "from keras.models import Sequential\n",
        "from keras.layers.core import Activation\n",
        "from keras.layers.core import Flatten\n",
        "from keras.layers.core import Dense\n",
        "from keras.optimizers import Adam\n",
        "from sklearn.preprocessing import LabelBinarizer\n",
        "from sklearn.model_selection import train_test_split\n",
        "from sklearn.metrics import classification_report\n",
        "from PIL import Image\n",
        "from imutils import paths\n",
        "import numpy as np\n",
        "import os"
      ],
      "execution_count": 4,
      "outputs": []
    },
    {
      "cell_type": "code",
      "metadata": {
        "colab": {
          "base_uri": "https://localhost:8080/"
        },
        "id": "b1HrgbixMXJX",
        "outputId": "89e8cfb8-67d8-4af3-fac7-2478de5f5aa1"
      },
      "source": [
        "# grab all image paths in the input dataset directory,then initialize\n",
        "# our list of images and corresponding class labels\n",
        "print(\"[INFO] loading images...\")\n",
        "imagePaths = paths.list_images(\"3scene\")\n",
        "data = []\n",
        "labels = []"
      ],
      "execution_count": 5,
      "outputs": [
        {
          "output_type": "stream",
          "text": [
            "[INFO] loading images...\n"
          ],
          "name": "stdout"
        }
      ]
    },
    {
      "cell_type": "code",
      "metadata": {
        "id": "2bBn_fO2Q-ec"
      },
      "source": [
        "#loop over our input images\n",
        "for imagePath in imagePaths:\n",
        "  # load the input from disk, resize it to 64x64 pixel, scale\n",
        "  # the pixelintensities to the range [0,1], and the update our\n",
        "  # images list\n",
        "  image = Image.open(imagePath)\n",
        "  #bisa pasang preprocessing disini jika mau, seperti filterring, dll\n",
        "  image = np.array(image.resize((128,128))) / 255.0 # untuk normalisasi maka di bagi 255.0\n",
        "  data.append(image)\n",
        "\n",
        "  # extract the class label from the file path and update the\n",
        "  # labels list\n",
        "  label = imagePath.split(os.path.sep)[-2]\n",
        "  labels.append(label)"
      ],
      "execution_count": 6,
      "outputs": []
    },
    {
      "cell_type": "code",
      "metadata": {
        "colab": {
          "base_uri": "https://localhost:8080/"
        },
        "id": "UsR7zy3xeNra",
        "outputId": "565ef6c1-eab3-43b0-c53b-00188e7549ce"
      },
      "source": [
        "print(labels)"
      ],
      "execution_count": 7,
      "outputs": [
        {
          "output_type": "stream",
          "text": [
            "['forest', 'forest', 'forest', 'forest', 'forest', 'forest', 'forest', 'forest', 'forest', 'forest', 'forest', 'forest', 'forest', 'forest', 'forest', 'forest', 'forest', 'forest', 'forest', 'forest', 'forest', 'forest', 'forest', 'forest', 'forest', 'forest', 'forest', 'forest', 'forest', 'forest', 'forest', 'forest', 'forest', 'forest', 'forest', 'forest', 'forest', 'forest', 'forest', 'forest', 'forest', 'forest', 'forest', 'forest', 'forest', 'forest', 'forest', 'forest', 'forest', 'forest', 'forest', 'forest', 'forest', 'forest', 'forest', 'forest', 'forest', 'forest', 'forest', 'forest', 'forest', 'forest', 'forest', 'forest', 'forest', 'forest', 'forest', 'forest', 'forest', 'forest', 'forest', 'forest', 'forest', 'forest', 'forest', 'forest', 'forest', 'forest', 'forest', 'forest', 'forest', 'forest', 'forest', 'forest', 'forest', 'forest', 'forest', 'forest', 'forest', 'forest', 'forest', 'forest', 'forest', 'forest', 'forest', 'forest', 'forest', 'forest', 'forest', 'forest', 'forest', 'forest', 'forest', 'forest', 'forest', 'forest', 'forest', 'forest', 'forest', 'forest', 'forest', 'forest', 'forest', 'forest', 'forest', 'forest', 'forest', 'forest', 'forest', 'forest', 'forest', 'forest', 'forest', 'forest', 'forest', 'forest', 'forest', 'forest', 'forest', 'forest', 'forest', 'forest', 'forest', 'forest', 'forest', 'forest', 'forest', 'forest', 'forest', 'forest', 'forest', 'forest', 'forest', 'forest', 'forest', 'forest', 'forest', 'forest', 'forest', 'forest', 'forest', 'forest', 'forest', 'forest', 'forest', 'forest', 'forest', 'forest', 'forest', 'forest', 'forest', 'forest', 'forest', 'forest', 'forest', 'forest', 'forest', 'forest', 'forest', 'forest', 'forest', 'forest', 'forest', 'forest', 'forest', 'forest', 'forest', 'forest', 'forest', 'forest', 'forest', 'forest', 'forest', 'forest', 'forest', 'forest', 'forest', 'forest', 'forest', 'forest', 'forest', 'forest', 'forest', 'forest', 'forest', 'forest', 'forest', 'forest', 'forest', 'forest', 'forest', 'forest', 'forest', 'forest', 'forest', 'forest', 'forest', 'forest', 'forest', 'forest', 'forest', 'forest', 'forest', 'forest', 'forest', 'forest', 'forest', 'forest', 'forest', 'forest', 'forest', 'forest', 'forest', 'forest', 'forest', 'forest', 'forest', 'forest', 'forest', 'forest', 'forest', 'forest', 'forest', 'forest', 'forest', 'forest', 'forest', 'forest', 'forest', 'forest', 'forest', 'forest', 'forest', 'forest', 'forest', 'forest', 'forest', 'forest', 'forest', 'forest', 'forest', 'forest', 'forest', 'forest', 'forest', 'forest', 'forest', 'forest', 'forest', 'forest', 'forest', 'forest', 'forest', 'forest', 'forest', 'forest', 'forest', 'forest', 'forest', 'forest', 'forest', 'forest', 'forest', 'forest', 'forest', 'forest', 'forest', 'forest', 'forest', 'forest', 'forest', 'forest', 'forest', 'forest', 'forest', 'forest', 'forest', 'forest', 'forest', 'forest', 'forest', 'forest', 'forest', 'forest', 'forest', 'forest', 'forest', 'forest', 'forest', 'forest', 'forest', 'forest', 'forest', 'forest', 'forest', 'forest', 'forest', 'forest', 'forest', 'forest', 'forest', 'forest', 'forest', 'forest', 'forest', 'forest', 'forest', 'forest', 'forest', 'forest', 'forest', 'forest', 'forest', 'forest', 'forest', 'forest', 'forest', 'forest', 'highway', 'highway', 'highway', 'highway', 'highway', 'highway', 'highway', 'highway', 'highway', 'highway', 'highway', 'highway', 'highway', 'highway', 'highway', 'highway', 'highway', 'highway', 'highway', 'highway', 'highway', 'highway', 'highway', 'highway', 'highway', 'highway', 'highway', 'highway', 'highway', 'highway', 'highway', 'highway', 'highway', 'highway', 'highway', 'highway', 'highway', 'highway', 'highway', 'highway', 'highway', 'highway', 'highway', 'highway', 'highway', 'highway', 'highway', 'highway', 'highway', 'highway', 'highway', 'highway', 'highway', 'highway', 'highway', 'highway', 'highway', 'highway', 'highway', 'highway', 'highway', 'highway', 'highway', 'highway', 'highway', 'highway', 'highway', 'highway', 'highway', 'highway', 'highway', 'highway', 'highway', 'highway', 'highway', 'highway', 'highway', 'highway', 'highway', 'highway', 'highway', 'highway', 'highway', 'highway', 'highway', 'highway', 'highway', 'highway', 'highway', 'highway', 'highway', 'highway', 'highway', 'highway', 'highway', 'highway', 'highway', 'highway', 'highway', 'highway', 'highway', 'highway', 'highway', 'highway', 'highway', 'highway', 'highway', 'highway', 'highway', 'highway', 'highway', 'highway', 'highway', 'highway', 'highway', 'highway', 'highway', 'highway', 'highway', 'highway', 'highway', 'highway', 'highway', 'highway', 'highway', 'highway', 'highway', 'highway', 'highway', 'highway', 'highway', 'highway', 'highway', 'highway', 'highway', 'highway', 'highway', 'highway', 'highway', 'highway', 'highway', 'highway', 'highway', 'highway', 'highway', 'highway', 'highway', 'highway', 'highway', 'highway', 'highway', 'highway', 'highway', 'highway', 'highway', 'highway', 'highway', 'highway', 'highway', 'highway', 'highway', 'highway', 'highway', 'highway', 'highway', 'highway', 'highway', 'highway', 'highway', 'highway', 'highway', 'highway', 'highway', 'highway', 'highway', 'highway', 'highway', 'highway', 'highway', 'highway', 'highway', 'highway', 'highway', 'highway', 'highway', 'highway', 'highway', 'highway', 'highway', 'highway', 'highway', 'highway', 'highway', 'highway', 'highway', 'highway', 'highway', 'highway', 'highway', 'highway', 'highway', 'highway', 'highway', 'highway', 'highway', 'highway', 'highway', 'highway', 'highway', 'highway', 'highway', 'highway', 'highway', 'highway', 'highway', 'highway', 'highway', 'highway', 'highway', 'highway', 'highway', 'highway', 'highway', 'highway', 'highway', 'highway', 'highway', 'highway', 'highway', 'highway', 'highway', 'highway', 'highway', 'highway', 'highway', 'highway', 'highway', 'highway', 'highway', 'highway', 'highway', 'highway', 'highway', 'highway', 'highway', 'highway', 'highway', 'highway', 'highway', 'highway', 'highway', 'highway', 'highway', 'highway', 'highway', 'highway', 'highway', 'highway', 'highway', 'highway', 'coast', 'coast', 'coast', 'coast', 'coast', 'coast', 'coast', 'coast', 'coast', 'coast', 'coast', 'coast', 'coast', 'coast', 'coast', 'coast', 'coast', 'coast', 'coast', 'coast', 'coast', 'coast', 'coast', 'coast', 'coast', 'coast', 'coast', 'coast', 'coast', 'coast', 'coast', 'coast', 'coast', 'coast', 'coast', 'coast', 'coast', 'coast', 'coast', 'coast', 'coast', 'coast', 'coast', 'coast', 'coast', 'coast', 'coast', 'coast', 'coast', 'coast', 'coast', 'coast', 'coast', 'coast', 'coast', 'coast', 'coast', 'coast', 'coast', 'coast', 'coast', 'coast', 'coast', 'coast', 'coast', 'coast', 'coast', 'coast', 'coast', 'coast', 'coast', 'coast', 'coast', 'coast', 'coast', 'coast', 'coast', 'coast', 'coast', 'coast', 'coast', 'coast', 'coast', 'coast', 'coast', 'coast', 'coast', 'coast', 'coast', 'coast', 'coast', 'coast', 'coast', 'coast', 'coast', 'coast', 'coast', 'coast', 'coast', 'coast', 'coast', 'coast', 'coast', 'coast', 'coast', 'coast', 'coast', 'coast', 'coast', 'coast', 'coast', 'coast', 'coast', 'coast', 'coast', 'coast', 'coast', 'coast', 'coast', 'coast', 'coast', 'coast', 'coast', 'coast', 'coast', 'coast', 'coast', 'coast', 'coast', 'coast', 'coast', 'coast', 'coast', 'coast', 'coast', 'coast', 'coast', 'coast', 'coast', 'coast', 'coast', 'coast', 'coast', 'coast', 'coast', 'coast', 'coast', 'coast', 'coast', 'coast', 'coast', 'coast', 'coast', 'coast', 'coast', 'coast', 'coast', 'coast', 'coast', 'coast', 'coast', 'coast', 'coast', 'coast', 'coast', 'coast', 'coast', 'coast', 'coast', 'coast', 'coast', 'coast', 'coast', 'coast', 'coast', 'coast', 'coast', 'coast', 'coast', 'coast', 'coast', 'coast', 'coast', 'coast', 'coast', 'coast', 'coast', 'coast', 'coast', 'coast', 'coast', 'coast', 'coast', 'coast', 'coast', 'coast', 'coast', 'coast', 'coast', 'coast', 'coast', 'coast', 'coast', 'coast', 'coast', 'coast', 'coast', 'coast', 'coast', 'coast', 'coast', 'coast', 'coast', 'coast', 'coast', 'coast', 'coast', 'coast', 'coast', 'coast', 'coast', 'coast', 'coast', 'coast', 'coast', 'coast', 'coast', 'coast', 'coast', 'coast', 'coast', 'coast', 'coast', 'coast', 'coast', 'coast', 'coast', 'coast', 'coast', 'coast', 'coast', 'coast', 'coast', 'coast', 'coast', 'coast', 'coast', 'coast', 'coast', 'coast', 'coast', 'coast', 'coast', 'coast', 'coast', 'coast', 'coast', 'coast', 'coast', 'coast', 'coast', 'coast', 'coast', 'coast', 'coast', 'coast', 'coast', 'coast', 'coast', 'coast', 'coast', 'coast', 'coast', 'coast', 'coast', 'coast', 'coast', 'coast', 'coast', 'coast', 'coast', 'coast', 'coast', 'coast', 'coast', 'coast', 'coast', 'coast', 'coast', 'coast', 'coast', 'coast', 'coast', 'coast', 'coast', 'coast', 'coast', 'coast', 'coast', 'coast', 'coast', 'coast', 'coast', 'coast', 'coast', 'coast', 'coast', 'coast', 'coast', 'coast', 'coast', 'coast', 'coast', 'coast', 'coast', 'coast', 'coast', 'coast', 'coast', 'coast', 'coast', 'coast', 'coast', 'coast', 'coast', 'coast', 'coast', 'coast', 'coast', 'coast', 'coast', 'coast', 'coast', 'coast', 'coast', 'coast', 'coast', 'coast', 'coast', 'coast', 'coast', 'coast', 'coast', 'coast', 'coast', 'coast', 'coast', 'coast', 'coast', 'coast', 'coast', 'coast', 'coast', 'coast', 'coast', 'coast', 'coast', 'coast', 'coast', 'coast']\n"
          ],
          "name": "stdout"
        }
      ]
    },
    {
      "cell_type": "code",
      "metadata": {
        "id": "52PpFAJ_fNNX"
      },
      "source": [
        "# encode the labels,converting them from strings to integers\n",
        "lb = LabelBinarizer()\n",
        "labels = lb.fit_transform(labels)"
      ],
      "execution_count": 8,
      "outputs": []
    },
    {
      "cell_type": "code",
      "metadata": {
        "colab": {
          "base_uri": "https://localhost:8080/"
        },
        "id": "ySxmfglAgY8a",
        "outputId": "4309d37b-7762-4030-8d56-2874cddc2e33"
      },
      "source": [
        "print(labels)"
      ],
      "execution_count": 9,
      "outputs": [
        {
          "output_type": "stream",
          "text": [
            "[[0 1 0]\n",
            " [0 1 0]\n",
            " [0 1 0]\n",
            " ...\n",
            " [1 0 0]\n",
            " [1 0 0]\n",
            " [1 0 0]]\n"
          ],
          "name": "stdout"
        }
      ]
    },
    {
      "cell_type": "code",
      "metadata": {
        "colab": {
          "base_uri": "https://localhost:8080/"
        },
        "id": "EYsdUxWljCT2",
        "outputId": "fd37800f-0a7e-4cc4-e7f8-0f5919dfd6f7"
      },
      "source": [
        "print(np.array(data).shape)"
      ],
      "execution_count": 10,
      "outputs": [
        {
          "output_type": "stream",
          "text": [
            "(948, 128, 128, 3)\n"
          ],
          "name": "stdout"
        }
      ]
    },
    {
      "cell_type": "code",
      "metadata": {
        "colab": {
          "base_uri": "https://localhost:8080/"
        },
        "id": "zEOivHgEjgXR",
        "outputId": "61ffd589-4966-4b96-ea37-5e502177c6b6"
      },
      "source": [
        "# perform a training and testing split, using 75% of the data for\n",
        "# training and 25% for evalution\n",
        "(trainX, testX, trainY, testY) = train_test_split(np.array(data), np.array(labels), test_size=0.25)\n",
        "print(trainX.shape)\n",
        "print(testX.shape)"
      ],
      "execution_count": 11,
      "outputs": [
        {
          "output_type": "stream",
          "text": [
            "(711, 128, 128, 3)\n",
            "(237, 128, 128, 3)\n"
          ],
          "name": "stdout"
        }
      ]
    },
    {
      "cell_type": "code",
      "metadata": {
        "id": "iC-EVRkmo2ZI"
      },
      "source": [
        "from keras.models import Sequential\n",
        "from keras.layers.core import Flatten\n",
        "from keras.layers.core import Dense, Dropout\n",
        "\n",
        "model = Sequential(\n",
        "    [\n",
        "        Flatten(input_shape=(128*128*3,)),\n",
        "        Dense(512, activation=\"relu\"),\n",
        "        Dense(512, activation=\"relu\"),\n",
        "        Dropout(0.3),\n",
        "        Dense(128, activation=\"relu\"),\n",
        "        Dense(128, activation=\"relu\"),\n",
        "        Dropout(0.3),\n",
        "        Dense(32, activation=\"relu\"),\n",
        "        Dense(3, activation = \"softmax\"),\n",
        "    ]\n",
        ")"
      ],
      "execution_count": 216,
      "outputs": []
    },
    {
      "cell_type": "code",
      "metadata": {
        "colab": {
          "base_uri": "https://localhost:8080/"
        },
        "id": "v10crlxKx0-l",
        "outputId": "3f71a2cc-370d-4d03-fffa-fe55e9300469"
      },
      "source": [
        "model.summary()"
      ],
      "execution_count": 218,
      "outputs": [
        {
          "output_type": "stream",
          "text": [
            "Model: \"sequential_44\"\n",
            "_________________________________________________________________\n",
            "Layer (type)                 Output Shape              Param #   \n",
            "=================================================================\n",
            "flatten_44 (Flatten)         (None, 49152)             0         \n",
            "_________________________________________________________________\n",
            "dense_269 (Dense)            (None, 512)               25166336  \n",
            "_________________________________________________________________\n",
            "dense_270 (Dense)            (None, 512)               262656    \n",
            "_________________________________________________________________\n",
            "dropout_44 (Dropout)         (None, 512)               0         \n",
            "_________________________________________________________________\n",
            "dense_271 (Dense)            (None, 128)               65664     \n",
            "_________________________________________________________________\n",
            "dense_272 (Dense)            (None, 128)               16512     \n",
            "_________________________________________________________________\n",
            "dropout_45 (Dropout)         (None, 128)               0         \n",
            "_________________________________________________________________\n",
            "dense_273 (Dense)            (None, 32)                4128      \n",
            "_________________________________________________________________\n",
            "dense_274 (Dense)            (None, 3)                 99        \n",
            "=================================================================\n",
            "Total params: 25,515,395\n",
            "Trainable params: 25,515,395\n",
            "Non-trainable params: 0\n",
            "_________________________________________________________________\n"
          ],
          "name": "stdout"
        }
      ]
    },
    {
      "cell_type": "code",
      "metadata": {
        "colab": {
          "base_uri": "https://localhost:8080/"
        },
        "id": "ziaMa1Pzzxpp",
        "outputId": "43d97188-3a97-4397-ee00-aa624e6ffdc7"
      },
      "source": [
        "# train the model using the Adam optimizer\n",
        "print(\"[INFO] training network...\")\n",
        "opt = Adam(lr=1e-3, decay=1e-3)\n",
        "model.compile(loss=\"categorical_crossentropy\", optimizer=opt,\n",
        "\tmetrics=[\"accuracy\"])\n",
        "H = model.fit(trainX, trainY, validation_data=(testX, testY), epochs=50, batch_size=32)"
      ],
      "execution_count": 219,
      "outputs": [
        {
          "output_type": "stream",
          "text": [
            "[INFO] training network...\n",
            "Epoch 1/50\n",
            "WARNING:tensorflow:Model was constructed with shape (None, 49152) for input KerasTensor(type_spec=TensorSpec(shape=(None, 49152), dtype=tf.float32, name='flatten_44_input'), name='flatten_44_input', description=\"created by layer 'flatten_44_input'\"), but it was called on an input with incompatible shape (None, 128, 128, 3).\n",
            "WARNING:tensorflow:Model was constructed with shape (None, 49152) for input KerasTensor(type_spec=TensorSpec(shape=(None, 49152), dtype=tf.float32, name='flatten_44_input'), name='flatten_44_input', description=\"created by layer 'flatten_44_input'\"), but it was called on an input with incompatible shape (None, 128, 128, 3).\n",
            "21/23 [==========================>...] - ETA: 0s - loss: 7.1598 - accuracy: 0.3567WARNING:tensorflow:Model was constructed with shape (None, 49152) for input KerasTensor(type_spec=TensorSpec(shape=(None, 49152), dtype=tf.float32, name='flatten_44_input'), name='flatten_44_input', description=\"created by layer 'flatten_44_input'\"), but it was called on an input with incompatible shape (None, 128, 128, 3).\n",
            "23/23 [==============================] - 1s 22ms/step - loss: 7.0238 - accuracy: 0.3540 - val_loss: 1.0978 - val_accuracy: 0.4430\n",
            "Epoch 2/50\n",
            "23/23 [==============================] - 0s 13ms/step - loss: 1.8911 - accuracy: 0.4241 - val_loss: 1.1136 - val_accuracy: 0.3713\n",
            "Epoch 3/50\n",
            "23/23 [==============================] - 0s 13ms/step - loss: 1.3006 - accuracy: 0.4201 - val_loss: 1.0119 - val_accuracy: 0.4810\n",
            "Epoch 4/50\n",
            "23/23 [==============================] - 0s 13ms/step - loss: 1.1713 - accuracy: 0.4113 - val_loss: 0.9802 - val_accuracy: 0.5021\n",
            "Epoch 5/50\n",
            "23/23 [==============================] - 0s 13ms/step - loss: 1.0670 - accuracy: 0.4926 - val_loss: 0.8847 - val_accuracy: 0.5485\n",
            "Epoch 6/50\n",
            "23/23 [==============================] - 0s 13ms/step - loss: 0.9625 - accuracy: 0.5209 - val_loss: 0.8211 - val_accuracy: 0.6203\n",
            "Epoch 7/50\n",
            "23/23 [==============================] - 0s 13ms/step - loss: 0.8652 - accuracy: 0.5764 - val_loss: 0.8976 - val_accuracy: 0.6456\n",
            "Epoch 8/50\n",
            "23/23 [==============================] - 0s 13ms/step - loss: 0.8394 - accuracy: 0.6207 - val_loss: 0.7370 - val_accuracy: 0.6371\n",
            "Epoch 9/50\n",
            "23/23 [==============================] - 0s 13ms/step - loss: 0.7620 - accuracy: 0.6470 - val_loss: 0.7467 - val_accuracy: 0.6540\n",
            "Epoch 10/50\n",
            "23/23 [==============================] - 0s 13ms/step - loss: 0.7883 - accuracy: 0.6566 - val_loss: 0.7239 - val_accuracy: 0.6582\n",
            "Epoch 11/50\n",
            "23/23 [==============================] - 0s 13ms/step - loss: 0.7611 - accuracy: 0.6333 - val_loss: 0.7005 - val_accuracy: 0.7426\n",
            "Epoch 12/50\n",
            "23/23 [==============================] - 0s 13ms/step - loss: 0.6669 - accuracy: 0.6820 - val_loss: 0.6958 - val_accuracy: 0.7764\n",
            "Epoch 13/50\n",
            "23/23 [==============================] - 0s 13ms/step - loss: 0.6230 - accuracy: 0.7386 - val_loss: 0.6400 - val_accuracy: 0.7131\n",
            "Epoch 14/50\n",
            "23/23 [==============================] - 0s 13ms/step - loss: 0.5608 - accuracy: 0.7439 - val_loss: 0.6313 - val_accuracy: 0.7637\n",
            "Epoch 15/50\n",
            "23/23 [==============================] - 0s 13ms/step - loss: 0.5247 - accuracy: 0.7945 - val_loss: 0.5710 - val_accuracy: 0.8101\n",
            "Epoch 16/50\n",
            "23/23 [==============================] - 0s 13ms/step - loss: 0.5881 - accuracy: 0.7522 - val_loss: 0.5692 - val_accuracy: 0.8059\n",
            "Epoch 17/50\n",
            "23/23 [==============================] - 0s 12ms/step - loss: 0.5244 - accuracy: 0.7768 - val_loss: 0.6068 - val_accuracy: 0.7722\n",
            "Epoch 18/50\n",
            "23/23 [==============================] - 0s 13ms/step - loss: 0.5358 - accuracy: 0.7881 - val_loss: 0.6897 - val_accuracy: 0.6920\n",
            "Epoch 19/50\n",
            "23/23 [==============================] - 0s 13ms/step - loss: 0.4505 - accuracy: 0.7992 - val_loss: 0.5492 - val_accuracy: 0.8481\n",
            "Epoch 20/50\n",
            "23/23 [==============================] - 0s 13ms/step - loss: 0.4358 - accuracy: 0.8490 - val_loss: 0.5555 - val_accuracy: 0.8439\n",
            "Epoch 21/50\n",
            "23/23 [==============================] - 0s 13ms/step - loss: 0.4520 - accuracy: 0.8471 - val_loss: 0.5658 - val_accuracy: 0.8017\n",
            "Epoch 22/50\n",
            "23/23 [==============================] - 0s 13ms/step - loss: 0.4047 - accuracy: 0.8726 - val_loss: 0.7681 - val_accuracy: 0.7089\n",
            "Epoch 23/50\n",
            "23/23 [==============================] - 0s 13ms/step - loss: 0.3625 - accuracy: 0.8611 - val_loss: 0.7597 - val_accuracy: 0.6709\n",
            "Epoch 24/50\n",
            "23/23 [==============================] - 0s 13ms/step - loss: 0.4446 - accuracy: 0.8036 - val_loss: 0.5805 - val_accuracy: 0.8101\n",
            "Epoch 25/50\n",
            "23/23 [==============================] - 0s 13ms/step - loss: 0.4037 - accuracy: 0.8563 - val_loss: 0.6108 - val_accuracy: 0.8481\n",
            "Epoch 26/50\n",
            "23/23 [==============================] - 0s 13ms/step - loss: 0.3672 - accuracy: 0.8819 - val_loss: 0.7489 - val_accuracy: 0.7511\n",
            "Epoch 27/50\n",
            "23/23 [==============================] - 0s 13ms/step - loss: 0.4545 - accuracy: 0.8173 - val_loss: 0.7562 - val_accuracy: 0.6540\n",
            "Epoch 28/50\n",
            "23/23 [==============================] - 0s 13ms/step - loss: 0.5463 - accuracy: 0.7805 - val_loss: 0.8929 - val_accuracy: 0.5612\n",
            "Epoch 29/50\n",
            "23/23 [==============================] - 0s 13ms/step - loss: 0.6219 - accuracy: 0.7094 - val_loss: 0.6685 - val_accuracy: 0.7131\n",
            "Epoch 30/50\n",
            "23/23 [==============================] - 0s 13ms/step - loss: 0.3817 - accuracy: 0.8648 - val_loss: 0.5624 - val_accuracy: 0.8228\n",
            "Epoch 31/50\n",
            "23/23 [==============================] - 0s 13ms/step - loss: 0.2714 - accuracy: 0.9005 - val_loss: 0.5459 - val_accuracy: 0.8397\n",
            "Epoch 32/50\n",
            "23/23 [==============================] - 0s 13ms/step - loss: 0.2946 - accuracy: 0.8988 - val_loss: 0.6347 - val_accuracy: 0.7722\n",
            "Epoch 33/50\n",
            "23/23 [==============================] - 0s 13ms/step - loss: 0.2849 - accuracy: 0.9051 - val_loss: 0.5517 - val_accuracy: 0.8101\n",
            "Epoch 34/50\n",
            "23/23 [==============================] - 0s 13ms/step - loss: 0.2941 - accuracy: 0.8825 - val_loss: 0.5991 - val_accuracy: 0.8143\n",
            "Epoch 35/50\n",
            "23/23 [==============================] - 0s 13ms/step - loss: 0.2267 - accuracy: 0.9196 - val_loss: 0.5896 - val_accuracy: 0.8270\n",
            "Epoch 36/50\n",
            "23/23 [==============================] - 0s 13ms/step - loss: 0.2603 - accuracy: 0.9201 - val_loss: 0.6753 - val_accuracy: 0.7932\n",
            "Epoch 37/50\n",
            "23/23 [==============================] - 0s 13ms/step - loss: 0.3871 - accuracy: 0.8581 - val_loss: 0.7798 - val_accuracy: 0.7679\n",
            "Epoch 38/50\n",
            "23/23 [==============================] - 0s 13ms/step - loss: 0.2324 - accuracy: 0.9226 - val_loss: 0.5396 - val_accuracy: 0.8523\n",
            "Epoch 39/50\n",
            "23/23 [==============================] - 0s 13ms/step - loss: 0.2379 - accuracy: 0.9224 - val_loss: 0.5718 - val_accuracy: 0.7890\n",
            "Epoch 40/50\n",
            "23/23 [==============================] - 0s 13ms/step - loss: 0.2994 - accuracy: 0.8806 - val_loss: 0.9800 - val_accuracy: 0.6962\n",
            "Epoch 41/50\n",
            "23/23 [==============================] - 0s 13ms/step - loss: 0.3056 - accuracy: 0.8747 - val_loss: 0.6744 - val_accuracy: 0.7975\n",
            "Epoch 42/50\n",
            "23/23 [==============================] - 0s 13ms/step - loss: 0.2082 - accuracy: 0.9322 - val_loss: 0.5143 - val_accuracy: 0.8481\n",
            "Epoch 43/50\n",
            "23/23 [==============================] - 0s 13ms/step - loss: 0.2596 - accuracy: 0.9146 - val_loss: 0.7430 - val_accuracy: 0.7089\n",
            "Epoch 44/50\n",
            "23/23 [==============================] - 0s 13ms/step - loss: 0.2556 - accuracy: 0.8911 - val_loss: 0.7138 - val_accuracy: 0.7679\n",
            "Epoch 45/50\n",
            "23/23 [==============================] - 0s 14ms/step - loss: 0.2438 - accuracy: 0.8932 - val_loss: 0.6238 - val_accuracy: 0.8186\n",
            "Epoch 46/50\n",
            "23/23 [==============================] - 0s 14ms/step - loss: 0.2349 - accuracy: 0.9191 - val_loss: 0.8490 - val_accuracy: 0.7004\n",
            "Epoch 47/50\n",
            "23/23 [==============================] - 0s 13ms/step - loss: 0.2912 - accuracy: 0.8946 - val_loss: 0.6717 - val_accuracy: 0.8270\n",
            "Epoch 48/50\n",
            "23/23 [==============================] - 0s 13ms/step - loss: 0.1858 - accuracy: 0.9290 - val_loss: 0.5872 - val_accuracy: 0.8186\n",
            "Epoch 49/50\n",
            "23/23 [==============================] - 0s 12ms/step - loss: 0.1792 - accuracy: 0.9278 - val_loss: 0.5449 - val_accuracy: 0.8565\n",
            "Epoch 50/50\n",
            "23/23 [==============================] - 0s 13ms/step - loss: 0.1993 - accuracy: 0.9379 - val_loss: 0.5797 - val_accuracy: 0.8481\n"
          ],
          "name": "stdout"
        }
      ]
    },
    {
      "cell_type": "code",
      "metadata": {
        "colab": {
          "base_uri": "https://localhost:8080/",
          "height": 591
        },
        "id": "3TsFv0Ni1WRT",
        "outputId": "4c51fb97-6afb-47ad-b460-0eee7415dbd8"
      },
      "source": [
        "import matplotlib.pyplot as plt\n",
        "\n",
        "print(H.history.keys())\n",
        "# summarize history for accuracy\n",
        "plt.plot(H.history['accuracy'])\n",
        "plt.plot(H.history['val_accuracy'])\n",
        "plt.title('model accuracy')\n",
        "plt.ylabel('accuracy')\n",
        "plt.xlabel('epoch')\n",
        "plt.legend(['train', 'test'], loc='upper left')\n",
        "plt.show()\n",
        "# summarize history for loss\n",
        "plt.plot(H.history['loss'])\n",
        "plt.plot(H.history['val_loss'])\n",
        "plt.title('model loss')\n",
        "plt.ylabel('loss')\n",
        "plt.xlabel('epoch')\n",
        "plt.legend(['train', 'test'], loc='upper left')\n",
        "plt.show()"
      ],
      "execution_count": 220,
      "outputs": [
        {
          "output_type": "stream",
          "text": [
            "dict_keys(['loss', 'accuracy', 'val_loss', 'val_accuracy'])\n"
          ],
          "name": "stdout"
        },
        {
          "output_type": "display_data",
          "data": {
            "image/png": "[encoded data removed]",
            "text/plain": [
              "<Figure size 432x288 with 1 Axes>"
            ]
          },
          "metadata": {
            "tags": [],
            "needs_background": "light"
          }
        },
        {
          "output_type": "display_data",
          "data": {
            "image/png": "[encoded data removed]",
            "text/plain": [
              "<Figure size 432x288 with 1 Axes>"
            ]
          },
          "metadata": {
            "tags": [],
            "needs_background": "light"
          }
        }
      ]
    },
    {
      "cell_type": "code",
      "metadata": {
        "colab": {
          "base_uri": "https://localhost:8080/"
        },
        "id": "Domu0IS61isU",
        "outputId": "f0071f99-557b-4223-f5ab-1264cad56948"
      },
      "source": [
        "# evaluate the network\n",
        "print(\"[INFO] evaluating network...\")\n",
        "predictions = model.predict(testX, batch_size=32)\n",
        "print(classification_report(testY.argmax(axis=1),\n",
        "\tpredictions.argmax(axis=1), target_names=lb.classes_))"
      ],
      "execution_count": 221,
      "outputs": [
        {
          "output_type": "stream",
          "text": [
            "[INFO] evaluating network...\n",
            "WARNING:tensorflow:Model was constructed with shape (None, 49152) for input KerasTensor(type_spec=TensorSpec(shape=(None, 49152), dtype=tf.float32, name='flatten_44_input'), name='flatten_44_input', description=\"created by layer 'flatten_44_input'\"), but it was called on an input with incompatible shape (None, 128, 128, 3).\n",
            "              precision    recall  f1-score   support\n",
            "\n",
            "       coast       0.86      0.84      0.85        92\n",
            "      forest       0.96      0.84      0.89        79\n",
            "     highway       0.74      0.88      0.81        66\n",
            "\n",
            "    accuracy                           0.85       237\n",
            "   macro avg       0.85      0.85      0.85       237\n",
            "weighted avg       0.86      0.85      0.85       237\n",
            "\n"
          ],
          "name": "stdout"
        }
      ]
    }
  ]
}